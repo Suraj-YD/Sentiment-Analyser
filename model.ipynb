{
 "cells": [
  {
   "cell_type": "code",
   "execution_count": 1,
   "id": "7b9d8367",
   "metadata": {},
   "outputs": [],
   "source": [
    "#import all required libraries\n",
    "\n",
    "import pandas as pd\n",
    "import numpy as np\n",
    "import pickle\n",
    "import re\n",
    "import nltk\n",
    "from nltk.corpus import stopwords\n",
    "from nltk.stem.porter import PorterStemmer #For stemming\n",
    "from nltk.stem import WordNetLemmatizer #For Lemmetization\n",
    "from sklearn.feature_extraction.text import CountVectorizer\n",
    "from sklearn.model_selection import train_test_split\n",
    "from sklearn.ensemble import RandomForestClassifier"
   ]
  },
  {
   "cell_type": "code",
   "execution_count": 2,
   "id": "7019ebc4",
   "metadata": {},
   "outputs": [
    {
     "data": {
      "text/html": [
       "<div>\n",
       "<style scoped>\n",
       "    .dataframe tbody tr th:only-of-type {\n",
       "        vertical-align: middle;\n",
       "    }\n",
       "\n",
       "    .dataframe tbody tr th {\n",
       "        vertical-align: top;\n",
       "    }\n",
       "\n",
       "    .dataframe thead th {\n",
       "        text-align: right;\n",
       "    }\n",
       "</style>\n",
       "<table border=\"1\" class=\"dataframe\">\n",
       "  <thead>\n",
       "    <tr style=\"text-align: right;\">\n",
       "      <th></th>\n",
       "      <th>Review</th>\n",
       "      <th>Liked</th>\n",
       "    </tr>\n",
       "  </thead>\n",
       "  <tbody>\n",
       "    <tr>\n",
       "      <th>0</th>\n",
       "      <td>I grew up (b. 1965) watching and loving the Th...</td>\n",
       "      <td>0</td>\n",
       "    </tr>\n",
       "    <tr>\n",
       "      <th>1</th>\n",
       "      <td>When I put this movie in my DVD player, and sa...</td>\n",
       "      <td>0</td>\n",
       "    </tr>\n",
       "    <tr>\n",
       "      <th>2</th>\n",
       "      <td>Why do people who do not know what a particula...</td>\n",
       "      <td>0</td>\n",
       "    </tr>\n",
       "    <tr>\n",
       "      <th>3</th>\n",
       "      <td>Even though I have great interest in Biblical ...</td>\n",
       "      <td>0</td>\n",
       "    </tr>\n",
       "    <tr>\n",
       "      <th>4</th>\n",
       "      <td>Im a die hard Dads Army fan and nothing will e...</td>\n",
       "      <td>1</td>\n",
       "    </tr>\n",
       "  </tbody>\n",
       "</table>\n",
       "</div>"
      ],
      "text/plain": [
       "                                              Review  Liked\n",
       "0  I grew up (b. 1965) watching and loving the Th...      0\n",
       "1  When I put this movie in my DVD player, and sa...      0\n",
       "2  Why do people who do not know what a particula...      0\n",
       "3  Even though I have great interest in Biblical ...      0\n",
       "4  Im a die hard Dads Army fan and nothing will e...      1"
      ]
     },
     "execution_count": 2,
     "metadata": {},
     "output_type": "execute_result"
    }
   ],
   "source": [
    "#load the review dataset for training\n",
    "df_reviews = pd.read_csv(r'D:\\minor\\Dataset.csv')\n",
    "df_reviews.head()"
   ]
  },
  {
   "cell_type": "code",
   "execution_count": 3,
   "id": "600f7d22",
   "metadata": {},
   "outputs": [],
   "source": [
    "#get the stopwords for english\n",
    "stopWords = stopwords.words('english')"
   ]
  },
  {
   "cell_type": "code",
   "execution_count": 4,
   "id": "e8435016",
   "metadata": {},
   "outputs": [],
   "source": [
    "#remove no and not from list of stopwords\n",
    "stopWords.remove('no')\n",
    "stopWords.remove('not')"
   ]
  },
  {
   "cell_type": "code",
   "execution_count": 5,
   "id": "c2e7af39",
   "metadata": {},
   "outputs": [],
   "source": [
    "#Create objects of stemmer and lemmatizer\n",
    "stem_obj = PorterStemmer()\n",
    "lem_obj = WordNetLemmatizer()\n",
    "\n",
    "\n",
    "corpus = []"
   ]
  },
  {
   "cell_type": "code",
   "execution_count": 6,
   "id": "301ba9fb",
   "metadata": {},
   "outputs": [],
   "source": [
    "#Text Preprocessing without stemming    \n",
    "for i in range(0,len(df_reviews)):\n",
    "    review = re.sub('[^a-zA-Z]',' ',df_reviews.iloc[i,0]) #remove all characters except A-Z\n",
    "    review = review.lower().split() #convert all text into lower case and split by space\n",
    "    \n",
    "    #Apply stemming and lemmatization of all words in review\n",
    "    review_updated = [lem_obj.lemmatize(lem_obj.lemmatize(word,pos='v'),pos='a')\\\n",
    "                     for word in review\\\n",
    "                     if word not in stopWords]\n",
    "    review_updated = ' '.join(review_updated)\n",
    "    corpus.append(review_updated)"
   ]
  },
  {
   "cell_type": "code",
   "execution_count": 7,
   "id": "e956f81e",
   "metadata": {},
   "outputs": [],
   "source": [
    "#initiliaze Countvecorizer\n",
    "countVector = CountVectorizer(max_features=2000)"
   ]
  },
  {
   "cell_type": "code",
   "execution_count": 8,
   "id": "cd1dc078",
   "metadata": {},
   "outputs": [],
   "source": [
    "#Save the Count Vector as tranform.pkl file \n",
    "#which will be used to convert text into count vector\n",
    "pickle.dump(countVector,open('transform.pkl','wb'))\n",
    "\n",
    "X = countVector.fit_transform(corpus).toarray()"
   ]
  },
  {
   "cell_type": "code",
   "execution_count": 9,
   "id": "f83e2c2c",
   "metadata": {},
   "outputs": [],
   "source": [
    "#Save the vocabulary in form of words\n",
    "words = countVector.get_feature_names()\n",
    "pickle.dump(words,open('vocabulary.pkl','wb'))"
   ]
  },
  {
   "cell_type": "code",
   "execution_count": 10,
   "id": "3720dd8b",
   "metadata": {},
   "outputs": [],
   "source": [
    "#X = countVector.fit_transform(corpus)\n",
    "y = df_reviews.iloc[:,1].values"
   ]
  },
  {
   "cell_type": "code",
   "execution_count": 11,
   "id": "83a92983",
   "metadata": {},
   "outputs": [],
   "source": [
    "#split the dataset into train and test\n",
    "X_train,X_test,y_train,y_test = train_test_split(X,y,test_size=0.3,random_state=42)"
   ]
  },
  {
   "cell_type": "code",
   "execution_count": 12,
   "id": "5f6c77cb",
   "metadata": {},
   "outputs": [
    {
     "data": {
      "text/plain": [
       "0.844"
      ]
     },
     "execution_count": 12,
     "metadata": {},
     "output_type": "execute_result"
    }
   ],
   "source": [
    "#Create Random forest model. Train and test\n",
    "rf_classifer = RandomForestClassifier(n_estimators=150,min_samples_split=5)\n",
    "rf_classifer.fit(X_train,y_train)\n",
    "rf_classifer.score(X_test,y_test)"
   ]
  },
  {
   "cell_type": "code",
   "execution_count": 13,
   "id": "6b1b6a66",
   "metadata": {},
   "outputs": [],
   "source": [
    "#Save the model pickle file to be used for prediction\n",
    "pickle.dump(rf_classifer,open('nlp_model.pkl','wb'))"
   ]
  },
  {
   "cell_type": "code",
   "execution_count": null,
   "id": "61757aa2",
   "metadata": {},
   "outputs": [],
   "source": []
  }
 ],
 "metadata": {
  "kernelspec": {
   "display_name": "Python 3 (ipykernel)",
   "language": "python",
   "name": "python3"
  },
  "language_info": {
   "codemirror_mode": {
    "name": "ipython",
    "version": 3
   },
   "file_extension": ".py",
   "mimetype": "text/x-python",
   "name": "python",
   "nbconvert_exporter": "python",
   "pygments_lexer": "ipython3",
   "version": "3.9.7"
  }
 },
 "nbformat": 4,
 "nbformat_minor": 5
}
